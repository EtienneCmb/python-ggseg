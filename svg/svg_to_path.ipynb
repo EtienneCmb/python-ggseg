{
 "cells": [
  {
   "cell_type": "markdown",
   "metadata": {},
   "source": [
    "SVG path to indivudual path"
   ]
  },
  {
   "cell_type": "code",
   "execution_count": 1,
   "metadata": {},
   "outputs": [],
   "source": [
    "import os\n",
    "import xml.dom.minidom\n"
   ]
  },
  {
   "cell_type": "markdown",
   "metadata": {},
   "source": [
    "---\n",
    "# **VEP**"
   ]
  },
  {
   "cell_type": "code",
   "execution_count": 16,
   "metadata": {},
   "outputs": [],
   "source": [
    "root = '/run/media/etienne/DATA/Toolbox/BraiNets/python-ggseg/svg/vep/'\n",
    "\n",
    "\n",
    "doc = xml.dom.minidom.parse(f'{root}/vep_lr_merged.svg')\n",
    "name = doc.getElementsByTagName('path')\n",
    "# name\n",
    "for t in name:\n",
    "    val = t.attributes['d'].value\n",
    "    if ('vep' in t.attributes['id'].value):\n",
    "        print([x.nodeValue for x in t.childNodes])\n",
    "\n",
    "name = doc.getElementsByTagName('g')\n",
    "\n",
    "save_to = '/run/media/etienne/DATA/Toolbox/BraiNets/python-ggseg/ggseg/data/vep/'\n",
    "\n",
    "for t in name:\n",
    "    layer = t.attributes['inkscape:label'].value\n",
    "\n",
    "    for tt in t.getElementsByTagName('path'):\n",
    "        vep_val = tt.attributes['id'].value.split('_')[0]\n",
    "        path = tt.attributes['d'].value\n",
    "        f = open(f\"{save_to}/{vep_val}_{layer}\", \"a\")\n",
    "        f.write(path)\n",
    "        f.close()\n"
   ]
  },
  {
   "cell_type": "markdown",
   "metadata": {},
   "source": [
    "---\n",
    "# **MarsAtlas**"
   ]
  },
  {
   "cell_type": "code",
   "execution_count": 36,
   "metadata": {},
   "outputs": [],
   "source": [
    "root = '/run/media/etienne/DATA/Toolbox/BraiNets/python-ggseg/svg/marsatlas/'\n",
    "\n",
    "\n",
    "doc = xml.dom.minidom.parse(f'{root}/ma_lr.svg')\n",
    "name = doc.getElementsByTagName('path')\n",
    "# name\n",
    "for t in name:\n",
    "    val = t.attributes['d'].value\n",
    "    if ('vep' in t.attributes['id'].value):\n",
    "        print([x.nodeValue for x in t.childNodes])\n",
    "\n",
    "name = doc.getElementsByTagName('g')\n",
    "\n",
    "save_to = '/run/media/etienne/DATA/Toolbox/BraiNets/python-ggseg/ggseg/data/marsatlas/'\n",
    "\n",
    "for t in name:\n",
    "    layer = t.attributes['inkscape:label'].value\n",
    "\n",
    "    for tt in t.getElementsByTagName('path'):\n",
    "        ma_val = tt.attributes['id'].value.split('_')[0]\n",
    "        path = tt.attributes['d'].value\n",
    "        f = open(f\"{save_to}/{ma_val}_{layer}\", \"a\")\n",
    "        f.write(path)\n",
    "        f.close()\n"
   ]
  },
  {
   "cell_type": "code",
   "execution_count": null,
   "metadata": {},
   "outputs": [],
   "source": []
  }
 ],
 "metadata": {
  "kernelspec": {
   "display_name": "Python 3.7.8 ('base')",
   "language": "python",
   "name": "python3"
  },
  "language_info": {
   "codemirror_mode": {
    "name": "ipython",
    "version": 3
   },
   "file_extension": ".py",
   "mimetype": "text/x-python",
   "name": "python",
   "nbconvert_exporter": "python",
   "pygments_lexer": "ipython3",
   "version": "3.7.8"
  },
  "orig_nbformat": 4,
  "vscode": {
   "interpreter": {
    "hash": "be1f7b27c611408e120044e54b72ddebb6ea986b85d66ed2e48481f7018406e6"
   }
  }
 },
 "nbformat": 4,
 "nbformat_minor": 2
}
